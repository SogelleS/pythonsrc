{
 "cells": [
  {
   "cell_type": "markdown",
   "metadata": {},
   "source": [
    "## 自定义的列表类型(自定义类)"
   ]
  },
  {
   "cell_type": "markdown",
   "metadata": {},
   "source": [
    "![pt](https://github.com/SogelleS/PythonNotevookPhotos/blob/master/%E6%8D%95%E8%8E%B7.JPG?raw=true)"
   ]
  },
  {
   "cell_type": "markdown",
   "metadata": {},
   "source": [
    "##### 需要有三个方法\n",
    "1. 构造方法\n",
    "2. 向对象中添加数据的方法\n",
    "3. 迭代器方法  "
   ]
  },
  {
   "cell_type": "markdown",
   "metadata": {},
   "source": [
    "##### 需要创建两个类  \n",
    "1. 自定义类\n",
    "2. 自定义迭代器类"
   ]
  },
  {
   "cell_type": "markdown",
   "metadata": {},
   "source": [
    "#####  实现效果"
   ]
  },
  {
   "cell_type": "code",
   "execution_count": 2,
   "metadata": {},
   "outputs": [
    {
     "name": "stdout",
     "output_type": "stream",
     "text": [
      "0 1 2 3 4 "
     ]
    }
   ],
   "source": [
    "for i in range(5):\n",
    "    print(i,end=' ')"
   ]
  },
  {
   "cell_type": "markdown",
   "metadata": {},
   "source": [
    "#### 自定义类 "
   ]
  },
  {
   "cell_type": "code",
   "execution_count": 18,
   "metadata": {},
   "outputs": [],
   "source": [
    "class MyList(object):\n",
    "    def __init__(self):\n",
    "        self.data = []\n",
    "        \n",
    "        pass\n",
    "    def __iter__(self):\n",
    "        # 返回一个迭代器\n",
    "        my_iter = MyIter(self.data)\n",
    "        \n",
    "        return my_iter\n",
    "        \n",
    "        pass\n",
    "    def additem(self,thing):\n",
    "        self.data.append(thing)\n",
    "        print(self.data)\n",
    "        pass\n",
    "    "
   ]
  },
  {
   "cell_type": "markdown",
   "metadata": {},
   "source": [
    "#### 自定义类的迭代器类"
   ]
  },
  {
   "cell_type": "code",
   "execution_count": 19,
   "metadata": {},
   "outputs": [],
   "source": [
    "class MyIter(object):\n",
    "    def __init__(self,mylist):\n",
    "        self.list_len = len(mylist)\n",
    "        self.list = mylist\n",
    "        self.local_index = 0\n",
    "        pass\n",
    "    def __iter__(self):\n",
    "        pass\n",
    "    def __next__(self):\n",
    "        # 判断是否越界 越界抛出异常\n",
    "        if self.local_index < self.list_len:\n",
    "            \n",
    "            # 根据下标获取值\n",
    "            data = self.list[self.local_index]\n",
    "            \n",
    "            # 下标位置加一\n",
    "            self.local_index += 1\n",
    "        else:\n",
    "            raise StopIteration\n",
    "            # 抛出停止迭代异常\n",
    "        \n",
    "        \n",
    "        # 返回下标数据\n",
    "        return data\n",
    "        "
   ]
  },
  {
   "cell_type": "markdown",
   "metadata": {},
   "source": [
    "#####  添加元素"
   ]
  },
  {
   "cell_type": "code",
   "execution_count": 20,
   "metadata": {},
   "outputs": [
    {
     "name": "stdout",
     "output_type": "stream",
     "text": [
      "['1']\n",
      "['1', '2']\n",
      "['1', '2', '3']\n",
      "['1', '2', '3', '4']\n",
      "['1', '2', '3', '4', '5']\n"
     ]
    }
   ],
   "source": [
    "mylist = MyList()\n",
    "mylist.additem('1')\n",
    "mylist.additem('2')\n",
    "mylist.additem('3')\n",
    "mylist.additem('4')\n",
    "mylist.additem('5')\n"
   ]
  },
  {
   "cell_type": "code",
   "execution_count": 22,
   "metadata": {},
   "outputs": [
    {
     "name": "stdout",
     "output_type": "stream",
     "text": [
      "1 2 3 4 5 "
     ]
    }
   ],
   "source": [
    "for i in mylist:\n",
    "    print(i, end=' ')"
   ]
  },
  {
   "cell_type": "markdown",
   "metadata": {},
   "source": [
    "# **迭代器类里的iter方法一会返回一个迭代器返回的是一个迭代器的迭代器**  \n",
    "# 通常在迭代器类里定义的iter方法返回迭代器本身使迭代器可以直接在for语句中使用  \n",
    "# 使用方法见**c8p3**"
   ]
  },
  {
   "cell_type": "code",
   "execution_count": null,
   "metadata": {},
   "outputs": [],
   "source": [
    "my_iter = iter(mylist)"
   ]
  },
  {
   "cell_type": "markdown",
   "metadata": {},
   "source": [
    "# 注意iter函数与next函数不能嵌套，使用时必须先引用否则会造成迭代一直在第一个的情况，见迭代器的迭代器.py"
   ]
  },
  {
   "cell_type": "code",
   "execution_count": 40,
   "metadata": {},
   "outputs": [
    {
     "name": "stdout",
     "output_type": "stream",
     "text": [
      "5\n"
     ]
    }
   ],
   "source": [
    "list_data = next(my_iter)\n",
    "print(list_data)"
   ]
  },
  {
   "cell_type": "code",
   "execution_count": null,
   "metadata": {},
   "outputs": [],
   "source": []
  }
 ],
 "metadata": {
  "kernelspec": {
   "display_name": "Python 3",
   "language": "python",
   "name": "python3"
  },
  "language_info": {
   "codemirror_mode": {
    "name": "ipython",
    "version": 3
   },
   "file_extension": ".py",
   "mimetype": "text/x-python",
   "name": "python",
   "nbconvert_exporter": "python",
   "pygments_lexer": "ipython3",
   "version": "3.8.1"
  }
 },
 "nbformat": 4,
 "nbformat_minor": 4
}
