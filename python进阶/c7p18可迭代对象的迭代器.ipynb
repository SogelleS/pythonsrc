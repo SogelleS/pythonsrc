{
 "cells": [
  {
   "cell_type": "markdown",
   "metadata": {},
   "source": [
    "## 目标  \n",
    "- 知道iter函数可以获得可迭代对象的迭代器  \n",
    "- 知道使用next很熟"
   ]
  },
  {
   "cell_type": "markdown",
   "metadata": {},
   "source": [
    "## 1 迭代器  \n",
    "  \n",
    ">　　在对可迭代对象的观察中发现每迭代一次都会返回对象的下一个数据  \n",
    "那么可以推断在迭代过程中有一个东西去记录迭代到了第几个了这个东西  \n",
    "就是**迭代器(iterator)它能保存位置和返回下一个值**  \n",
    "　　***实际上外部迭代对象时通过＿iter＿先获取了对象的一个迭代器然后  \n",
    "通过迭代器，然后通过迭代器获取对象的每一个数据***\n"
   ]
  },
  {
   "cell_type": "markdown",
   "metadata": {},
   "source": [
    "# 注意iter函数与next函数不能嵌套，使用时必须先引用否则会造成迭代一直在第一个的情况见迭代器的迭代器.py"
   ]
  },
  {
   "cell_type": "markdown",
   "metadata": {},
   "source": [
    "## 2 inter()函数与next()函数"
   ]
  },
  {
   "cell_type": "code",
   "execution_count": 10,
   "metadata": {},
   "outputs": [],
   "source": [
    "list = [1, 3, 5, 7, 9]"
   ]
  },
  {
   "cell_type": "markdown",
   "metadata": {},
   "source": [
    "- iter()函数  \n",
    "iter()函数返回一个迭代器对象,使用iter(可迭代对象)获取迭代器  "
   ]
  },
  {
   "cell_type": "code",
   "execution_count": 11,
   "metadata": {},
   "outputs": [],
   "source": [
    "li_iter = iter(list)"
   ]
  },
  {
   "cell_type": "markdown",
   "metadata": {},
   "source": [
    "- next()函数  \n",
    "使用next(迭代器对象)返回下可迭代对象的下一个数据"
   ]
  },
  {
   "cell_type": "markdown",
   "metadata": {},
   "source": [
    "**可迭代对象---->iter(可迭代对象)------->next(迭代器对象)**  \n",
    "　　　　　　　　迭代器对象　　　　下一个元素"
   ]
  },
  {
   "cell_type": "code",
   "execution_count": 17,
   "metadata": {},
   "outputs": [
    {
     "ename": "StopIteration",
     "evalue": "",
     "output_type": "error",
     "traceback": [
      "\u001b[1;31m---------------------------------------------------------------------------\u001b[0m",
      "\u001b[1;31mStopIteration\u001b[0m                             Traceback (most recent call last)",
      "\u001b[1;32m<ipython-input-17-cf75eb069722>\u001b[0m in \u001b[0;36m<module>\u001b[1;34m\u001b[0m\n\u001b[1;32m----> 1\u001b[1;33m \u001b[0mnext_li_iter\u001b[0m \u001b[1;33m=\u001b[0m \u001b[0mnext\u001b[0m\u001b[1;33m(\u001b[0m\u001b[0mli_iter\u001b[0m\u001b[1;33m)\u001b[0m\u001b[1;33m\u001b[0m\u001b[1;33m\u001b[0m\u001b[0m\n\u001b[0m\u001b[0;32m      2\u001b[0m \u001b[0mnext_li_iter\u001b[0m\u001b[1;33m\u001b[0m\u001b[1;33m\u001b[0m\u001b[0m\n\u001b[0;32m      3\u001b[0m \u001b[1;31m# 迭代超出会发生异常\u001b[0m\u001b[1;33m\u001b[0m\u001b[1;33m\u001b[0m\u001b[1;33m\u001b[0m\u001b[0m\n",
      "\u001b[1;31mStopIteration\u001b[0m: "
     ]
    }
   ],
   "source": [
    "next_li_iter = next(li_iter)\n",
    "next_li_iter\n",
    "# 迭代超出会发生异常"
   ]
  },
  {
   "cell_type": "markdown",
   "metadata": {},
   "source": [
    "- 循环执行以上代码查看得到的元素"
   ]
  },
  {
   "cell_type": "markdown",
   "metadata": {},
   "source": [
    "## for循环的内部实现"
   ]
  },
  {
   "cell_type": "markdown",
   "metadata": {},
   "source": [
    "- 通过iter函数获取迭代器 -----> 调用可迭代对象的魔法方法iter  获取迭代器  \n",
    "\n",
    "\n",
    "- 使用next函数得到下一个元素----->调用迭代器对象的next方法  \n",
    "  \n",
    "  \n",
    "- 捕获迭代器 StopIteration: 异常"
   ]
  },
  {
   "cell_type": "markdown",
   "metadata": {},
   "source": [
    "## 自定义迭代器类"
   ]
  },
  {
   "cell_type": "markdown",
   "metadata": {},
   "source": [
    "- 必须含有__iter方法  \n",
    "- 必须含有__next方法"
   ]
  }
 ],
 "metadata": {
  "kernelspec": {
   "display_name": "Python 3",
   "language": "python",
   "name": "python3"
  },
  "language_info": {
   "codemirror_mode": {
    "name": "ipython",
    "version": 3
   },
   "file_extension": ".py",
   "mimetype": "text/x-python",
   "name": "python",
   "nbconvert_exporter": "python",
   "pygments_lexer": "ipython3",
   "version": "3.8.1"
  }
 },
 "nbformat": 4,
 "nbformat_minor": 4
}
