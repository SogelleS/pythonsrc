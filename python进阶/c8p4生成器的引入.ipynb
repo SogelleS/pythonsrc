{
 "cells": [
  {
   "cell_type": "markdown",
   "metadata": {},
   "source": [
    "# 生成器"
   ]
  },
  {
   "cell_type": "markdown",
   "metadata": {},
   "source": [
    "### 目标  \n",
    "- 能够使用两种方法创建一个生成器"
   ]
  },
  {
   "cell_type": "markdown",
   "metadata": {},
   "source": [
    "### 生成器  \n",
    "**生成器是一个特殊的迭代器**  \n",
    "其实是一种精简了语法的迭代器  \n",
    "next(迭代器)---->下一个值  \n",
    "next(生成器)---->下一个值"
   ]
  },
  {
   "cell_type": "code",
   "execution_count": 11,
   "metadata": {},
   "outputs": [
    {
     "name": "stdout",
     "output_type": "stream",
     "text": [
      "0 2 4 6 8 10 12 14 16 18 "
     ]
    }
   ],
   "source": [
    "data_list = [x*2 for x in range(10)]\n",
    "for i in data_list:\n",
    "    print(i, end=' ')"
   ]
  },
  {
   "cell_type": "markdown",
   "metadata": {},
   "source": [
    "使用了列表推导式（列表解析）\n",
    "\n",
    "### 生成器的第一种创建方式(列表推导式)"
   ]
  },
  {
   "cell_type": "code",
   "execution_count": 39,
   "metadata": {},
   "outputs": [
    {
     "name": "stdout",
     "output_type": "stream",
     "text": [
      "<generator object <genexpr> at 0x000001B35BB66120>\n",
      "(1, 2, 3, 4, 5)\n"
     ]
    }
   ],
   "source": [
    "data_list2 = (x*2 for x in range(10))\n",
    "data_list3 = (1,2,3,4,5)\n",
    "# 元组不是一个生成器\n",
    "print(data_list2)\n",
    "print(data_list3)\n",
    "# 生成器对象"
   ]
  },
  {
   "cell_type": "code",
   "execution_count": 48,
   "metadata": {},
   "outputs": [
    {
     "name": "stdout",
     "output_type": "stream",
     "text": [
      "16\n"
     ]
    }
   ],
   "source": [
    "val2 = next(data_list2)\n",
    "print(val2)\n",
    "#val3 = next(data_list3)\n",
    "#print(val3)\n",
    "# 重复运行产看结果"
   ]
  },
  {
   "cell_type": "markdown",
   "metadata": {},
   "source": [
    "可见生成器具有迭代器的特性<br/><br/>\n",
    "### 生成器的第二种创建方式(yield)"
   ]
  },
  {
   "cell_type": "code",
   "execution_count": 57,
   "metadata": {},
   "outputs": [
    {
     "name": "stdout",
     "output_type": "stream",
     "text": [
      "<generator object test at 0x000001B35C44B9E0>\n"
     ]
    }
   ],
   "source": [
    "def test():\n",
    "    yield 10\n",
    "n = test()\n",
    "print(n)\n",
    "# n是一个生成器对象"
   ]
  },
  {
   "cell_type": "code",
   "execution_count": 58,
   "metadata": {},
   "outputs": [
    {
     "name": "stdout",
     "output_type": "stream",
     "text": [
      "10\n"
     ]
    }
   ],
   "source": [
    "val4 = next(n)\n",
    "print(val4)"
   ]
  },
  {
   "cell_type": "markdown",
   "metadata": {},
   "source": [
    "只返回一次\n",
    "### 使用了yield的函数已经不是一个函数了而是一个生成器\n",
    "- **yield充当了返回值的角色**  \n",
    "- **yield记录的上次运行的状态(上次运行yield之后的位置)并且暂停执行函数的代码，下一次调用生成器时会从上次的位置继续往下执行**"
   ]
  },
  {
   "cell_type": "code",
   "execution_count": null,
   "metadata": {},
   "outputs": [],
   "source": []
  }
 ],
 "metadata": {
  "kernelspec": {
   "display_name": "Python 3",
   "language": "python",
   "name": "python3"
  },
  "language_info": {
   "codemirror_mode": {
    "name": "ipython",
    "version": 3
   },
   "file_extension": ".py",
   "mimetype": "text/x-python",
   "name": "python",
   "nbconvert_exporter": "python",
   "pygments_lexer": "ipython3",
   "version": "3.8.1"
  }
 },
 "nbformat": 4,
 "nbformat_minor": 4
}
