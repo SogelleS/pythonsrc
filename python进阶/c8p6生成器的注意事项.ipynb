{
 "cells": [
  {
   "cell_type": "markdown",
   "metadata": {},
   "source": [
    "### 目标  \n",
    "- 知道使用send方法能够启动生成器，并传递参数  \n",
    "- 理解协程中return的作用"
   ]
  },
  {
   "cell_type": "markdown",
   "metadata": {},
   "source": [
    "## 生成器中使用return的问题"
   ]
  },
  {
   "cell_type": "code",
   "execution_count": 29,
   "metadata": {},
   "outputs": [],
   "source": [
    "def fibyield(maxnum):\n",
    "    a = 1\n",
    "    b = 1\n",
    "    local = 1\n",
    "    while local <= maxnum:\n",
    "        data = a\n",
    "        a = b\n",
    "        b = a + b\n",
    "        local += 1\n",
    "        yield data\n",
    "        return '我是return'"
   ]
  },
  {
   "cell_type": "code",
   "execution_count": 40,
   "metadata": {},
   "outputs": [
    {
     "name": "stdout",
     "output_type": "stream",
     "text": [
      "1\n",
      "\n",
      "我是return\n"
     ]
    }
   ],
   "source": [
    "fib = fibyield(2)\n",
    "val = next(fib)\n",
    "print(val)\n",
    "try:\n",
    "    val = next(fib)\n",
    "    print(val)\n",
    "except Exception as e:\n",
    "    print()\n",
    "    print(e)"
   ]
  },
  {
   "cell_type": "markdown",
   "metadata": {},
   "source": [
    "- 生成器中可以使用return  \n",
    "- 使用return效果相同  \n",
    "- 会将return返回的东西作为异常"
   ]
  },
  {
   "cell_type": "markdown",
   "metadata": {},
   "source": [
    "## 生成器的send()方法 "
   ]
  },
  {
   "cell_type": "code",
   "execution_count": 59,
   "metadata": {},
   "outputs": [],
   "source": [
    "def fibyield2(maxnum):\n",
    "    a = 1\n",
    "    b = 1\n",
    "    local = 1\n",
    "    while local <= maxnum:\n",
    "        data = a\n",
    "        a = b\n",
    "        b = a + b\n",
    "        local += 1\n",
    "        recv = yield data\n",
    "        print('recv is',recv)\n",
    "        if recv == True:\n",
    "            return ['a','b','c']"
   ]
  },
  {
   "cell_type": "markdown",
   "metadata": {},
   "source": [
    "- 在生成器内实现接收外部的参数\n",
    "- recv = yield data\n",
    "- recv 就是接收到的参数\n",
    "- 需要配合生成器的send方法,如果使用next函数则传入None"
   ]
  },
  {
   "cell_type": "markdown",
   "metadata": {},
   "source": [
    "# 注意生成器和迭代器返回的错误类型<class 'StopIteration'>里默认对错误的描述是空字符串，如果使用了return则错误描述是return返回的对象"
   ]
  },
  {
   "cell_type": "code",
   "execution_count": 60,
   "metadata": {},
   "outputs": [
    {
     "name": "stdout",
     "output_type": "stream",
     "text": [
      "1\n",
      "recv is 0\n",
      "1\n",
      "recv is 1\n",
      "<class 'StopIteration'>\n",
      "['a', 'b', 'c']\n"
     ]
    }
   ],
   "source": [
    "fib2 = fibyield2(4)\n",
    "val = next(fib2)\n",
    "print(val)\n",
    "try:\n",
    "    val = fib2.send(0)\n",
    "    print(val)\n",
    "    val = fib2.send(1)\n",
    "    print(val)\n",
    "   \n",
    "except Exception as e:\n",
    "    print(type(e))\n",
    "    print(e)"
   ]
  },
  {
   "cell_type": "code",
   "execution_count": null,
   "metadata": {},
   "outputs": [],
   "source": []
  },
  {
   "cell_type": "code",
   "execution_count": null,
   "metadata": {},
   "outputs": [],
   "source": []
  }
 ],
 "metadata": {
  "kernelspec": {
   "display_name": "Python 3",
   "language": "python",
   "name": "python3"
  },
  "language_info": {
   "codemirror_mode": {
    "name": "ipython",
    "version": 3
   },
   "file_extension": ".py",
   "mimetype": "text/x-python",
   "name": "python",
   "nbconvert_exporter": "python",
   "pygments_lexer": "ipython3",
   "version": "3.8.1"
  }
 },
 "nbformat": 4,
 "nbformat_minor": 4
}
